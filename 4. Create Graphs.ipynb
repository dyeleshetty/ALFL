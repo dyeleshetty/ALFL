{
 "cells": [
  {
   "cell_type": "markdown",
   "id": "a66bd998",
   "metadata": {},
   "source": [
    "Trying to figure out how I can put the pickle files on git, it crashes 30 files in. will update ASAP"
   ]
  },
  {
   "cell_type": "code",
   "execution_count": null,
   "id": "633f9321",
   "metadata": {},
   "outputs": [],
   "source": []
  }
 ],
 "metadata": {
  "kernelspec": {
   "display_name": "Python 3",
   "language": "python",
   "name": "python3"
  },
  "language_info": {
   "codemirror_mode": {
    "name": "ipython",
    "version": 3
   },
   "file_extension": ".py",
   "mimetype": "text/x-python",
   "name": "python",
   "nbconvert_exporter": "python",
   "pygments_lexer": "ipython3",
   "version": "3.9.2"
  }
 },
 "nbformat": 4,
 "nbformat_minor": 5
}
