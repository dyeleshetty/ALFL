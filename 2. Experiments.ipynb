{
 "cells": [
  {
   "cell_type": "markdown",
   "id": "bdc44c7e",
   "metadata": {},
   "source": [
    "# Pretraining\n",
    "A pretrained model is used to speed up the training, which was necessary for the short time allowed for the research. The pretrained model is created by training for 200 epochs on the pretrain set. To begin we create a run-folder for the pretrain2 and pretrain8 set."
   ]
  },
  {
   "cell_type": "code",
   "execution_count": null,
   "id": "07285ec6",
   "metadata": {},
   "outputs": [],
   "source": [
    "import os\n",
    "os.makedirs('KITTI/yolo2/clients/run-pretrain2/')\n",
    "os.makedirs('KITTI/yolo8/clients/run-pretrain8/')"
   ]
  },
  {
   "cell_type": "markdown",
   "id": "24516fe2",
   "metadata": {},
   "source": [
    "In this case we train centralized, i.e. on one device: device 0. Device 0 gets all pretrain samples as labeled samples."
   ]
  },
  {
   "cell_type": "code",
   "execution_count": null,
   "id": "cf8a3790",
   "metadata": {},
   "outputs": [],
   "source": [
    "from shutil import copyfile\n",
    "copyfile('KITTI/yolo2/pretrain.txt', 'KITTI/yolo2/clients/run-pretrain2/l-0.txt')\n",
    "copyfile('KITTI/yolo8/pretrain.txt', 'KITTI/yolo8/clients/run-pretrain8/l-0.txt')"
   ]
  },
  {
   "cell_type": "markdown",
   "id": "f8eca1fe",
   "metadata": {},
   "source": [
    "Start the training on each of the pretrainsets for 200 epochs."
   ]
  },
  {
   "cell_type": "code",
   "execution_count": null,
   "id": "df211197",
   "metadata": {},
   "outputs": [],
   "source": [
    "!python research.py --action train --epochs 200 --pretrain --client 0 --classes 2 --round 0 --test --name pretrain2"
   ]
  },
  {
   "cell_type": "code",
   "execution_count": null,
   "id": "ae6ccc82",
   "metadata": {
    "scrolled": true
   },
   "outputs": [],
   "source": [
    "!python research.py --action train --epochs 200 --pretrain --client 0 --classes 8 --round 0 --test --name pretrain8"
   ]
  },
  {
   "cell_type": "markdown",
   "id": "c430b2c6",
   "metadata": {},
   "source": [
    "And copy them to an easily accessible location"
   ]
  },
  {
   "cell_type": "code",
   "execution_count": null,
   "id": "d115601b",
   "metadata": {},
   "outputs": [],
   "source": [
    "copyfile('runs/run-pretrain2-0-0/weights/last.pt', 'startingpoint.pt')\n",
    "copyfile('runs/run-pretrain8-0-0/weights/last.pt', 'startingpoint8.pt')"
   ]
  },
  {
   "cell_type": "markdown",
   "id": "43a6599a",
   "metadata": {},
   "source": [
    "# Experiments\n",
    "## Introduction\n",
    "The algorithm consists of multiple steps: an active learning step, a training step and a federated learning step. These have been defined in the research.py files. These steps can be combined in multiple ways, with different parameters to create the runs described in the paper. Each of the runs has a numbered identifier, a mapping from numbered identifier to the name in the paper will be provided later. \n",
    "#### Process spawning\n",
    "In this notebook we assume that for every step of the algorithm we start a new process. This is done since python does not clear up the memory (well enough) after a training iteration (committed memory remains high, sometimes graphics memory is not emptied). Forcing the garbage collector only results in marginable returns. Therefore a new process for each step is chosen, as after the step finishes, the entire memory used by the process is forcefully cleared by the OS. \n",
    "\n",
    "Note: this adds additional overhead, plus in rounds the datasets are often reinitialized. If one has the memory available, the simple modification can be made which selects the dataloader from a pre-initialized pool of dataloaders depending on the device ID in start_training in research.py. One can then just call research.py for every round or make the necessary loops in research.py. Warning: this can take excessive amounts of memory and is thus prone to crashes, and can additionally only be used after the datasets for each device are constant, i.e. after AL iterations have finished. Speedups can be expected as 15-20 seconds per device per round.\n",
    "\n",
    "### Initializing Step\n",
    "To begin with the experiments for a run, we initialize the device files. That means creating the necessary directories and adding all device files to its unlabeled datapool. This is done as follows:"
   ]
  },
  {
   "cell_type": "code",
   "execution_count": null,
   "id": "8e61d6a0",
   "metadata": {},
   "outputs": [],
   "source": [
    "!python research.py --action init --classes 2 --name example "
   ]
  },
  {
   "cell_type": "markdown",
   "id": "b1c05c64",
   "metadata": {},
   "source": [
    "### Active learning step\n",
    "With the folders created, we can begin by using AL for the pretrained starting point weights. The active learning aggregation method and samples can be defined through parameters. The client parameter indicates the device on which the active learning step is executed. The active learning step will only use the data available on that device."
   ]
  },
  {
   "cell_type": "code",
   "execution_count": null,
   "id": "5868190f",
   "metadata": {},
   "outputs": [],
   "source": [
    "!python research.py --action al --al_method sum --weights startingpoint.pt --client 0 --classes 2 --round 0 --name example "
   ]
  },
  {
   "cell_type": "markdown",
   "id": "af6b2ca0",
   "metadata": {},
   "source": [
    "### Training step\n",
    "Now that files are labelled on the device, we can begin training. The training code is based on the PyTorch YOLOv5 implementation, adapted specifically for this paper. The original code can be seen at: https://github.com/ultralytics/yolov5. \n",
    "In chained methods, we use the freeze_backbone parameter during training."
   ]
  },
  {
   "cell_type": "code",
   "execution_count": null,
   "id": "04c91c84",
   "metadata": {},
   "outputs": [],
   "source": [
    "!python research.py --action train --epochs 20 --weights startingpoint.pt --client 0 --classes 2 --round 0 --name example "
   ]
  },
  {
   "cell_type": "markdown",
   "id": "4a577336",
   "metadata": {},
   "source": [
    "### FedAvg step\n",
    "After multiple devices have finished training, we can fedavg the resulting checkpoints, to recreate pseudo-FL.\n"
   ]
  },
  {
   "cell_type": "code",
   "execution_count": null,
   "id": "8466e9ab",
   "metadata": {},
   "outputs": [],
   "source": [
    "!python research.py --action fedavg --classes 2 --round 0 --name example "
   ]
  },
  {
   "cell_type": "markdown",
   "id": "634c50a7",
   "metadata": {},
   "source": [
    "### Composing\n",
    "These steps can now be combined in a for-loop using iPython, e.g. as follows:"
   ]
  },
  {
   "cell_type": "code",
   "execution_count": null,
   "id": "7e98bcd0",
   "metadata": {},
   "outputs": [],
   "source": [
    "# Initialize run\n",
    "!python research.py --action init --classes 2 --name example1 "
   ]
  },
  {
   "cell_type": "code",
   "execution_count": null,
   "id": "8c5b13b2",
   "metadata": {
    "scrolled": true
   },
   "outputs": [],
   "source": [
    "# First round is using startingpoint.pt, after that we reuse weights in all other rounds. (When FedAvg'ing)\n",
    "for client in range(0, 9):\n",
    "    !python research.py --action al --al_method sum --weights startingpoint.pt --client {client} --classes 2 --round 0 --name example1 \n",
    "    !python research.py --action train --epochs 20 --weights startingpoint.pt --client {client} --classes 2 --round 0 --name example1 \n",
    "!python research.py --action fedavg --classes 2 --round 0 --name example1"
   ]
  },
  {
   "cell_type": "code",
   "execution_count": null,
   "id": "2a2aeef5",
   "metadata": {},
   "outputs": [],
   "source": [
    "# The Active Learning rounds\n",
    "for curr_round in range(1,22):\n",
    "    for client in range(0, 9):\n",
    "        !python research.py --action al --al_method sum --reuse_weights --client {client} --classes 2 --round {curr_round} --name example1 \n",
    "        !python research.py --action train --epochs 20 --reuse_weights --client {client} --classes 2 --round {curr_round} --name example1 \n",
    "    !python research.py --action fedavg --classes 2 --round {curr_round} --name example1"
   ]
  },
  {
   "cell_type": "code",
   "execution_count": null,
   "id": "20353f7e",
   "metadata": {},
   "outputs": [],
   "source": [
    "# The non-active learning rounds. \n",
    "# These are the rounds you can optimize by reusing the dataloaders for each device through a pooled dataloader.\n",
    "for curr_round in range(22,111):\n",
    "    for client in range(0, 9):\n",
    "        !python research.py --action train --epochs 20 --reuse_weights --client {client} --classes 2 --round {curr_round} --name example1 \n",
    "    !python research.py --action fedavg --classes 2 --round {curr_round} --name example1"
   ]
  },
  {
   "cell_type": "markdown",
   "id": "4e4a237d",
   "metadata": {},
   "source": [
    "# Executing the experiments described in the paper\n",
    "These are the experiments described in the paper. The names in the paper were given after the runs were completed. The original names for the runs are numbered.\n",
    "\n",
    "A small sidenote: much of the experiments here were executed in different python notebooks. For the repository these notebooks have been aggregated into one large codebase with flags for each of the runs. This is done to allow reviewers and contributors to more easily understand the code (rather than searching endlessly through 39 python notebooks). It is recommended to run the code below in different notebooks as well, as the logging output will often result in a python notebook in the hundreds of megabytes. This makes it incredibly slow to load the notebook.\n",
    "\n",
    "It can occur that a slightly different AL sample is selected in one run, compared to another run. This happens if the confidences are very close and the model training has slightly different weights (which can happen as SGD optimizer uses randomness). The randomness is seeded, however it appears PyTorch internally uses an unseeded random generator. The influence of this should be negligible. The originally selected AL samples and resulting weights are kept by the author for reproducability. Due to the size (more than 200GB) these cannot be uploaded to this repository, but are available via the emailadress in the paper. \n",
    "\n",
    "## FedAvg runs"
   ]
  },
  {
   "cell_type": "markdown",
   "id": "41163f58",
   "metadata": {},
   "source": [
    "### 2-2*-SUM (Run-4)"
   ]
  },
  {
   "cell_type": "code",
   "execution_count": null,
   "id": "052c2fb1",
   "metadata": {},
   "outputs": [],
   "source": [
    "!python research.py --action init --classes 2 --name 4 \n",
    "\n",
    "for client in range(0, 9):\n",
    "    !python research.py --action al --al_method sum --weights startingpoint.pt --client {client} --classes 2 --round 0 --name 4 \n",
    "    !python research.py --action train --epochs 20 --weights startingpoint.pt --client {client} --classes 2 --round 0 --name 4 \n",
    "!python research.py --action fedavg --classes 2 --round 0 --name 4\n",
    "\n",
    "for curr_round in range(1,22):\n",
    "    for client in range(0, 9):\n",
    "        weights = f'runs/run-4-{client}-{curr_round -1}'\n",
    "        !python research.py --action al --al_method sum --weights {weights} --client {client} --classes 2 --round {curr_round} --name 4 \n",
    "        !python research.py --action train --epochs 20 --weights {weights} --client {client} --classes 2 --round {curr_round} --name 4 \n",
    "!python research.py --action fedavg --classes 2 --round 21 --name 4\n",
    "    \n",
    "for curr_round in range(22,111):\n",
    "    for client in range(0, 9):\n",
    "        !python research.py --action train --epochs 20 --reuse_weights --client {client} --classes 2 --round {curr_round} --name 4 \n",
    "    !python research.py --action fedavg --classes 2 --round {curr_round} --name 4"
   ]
  },
  {
   "cell_type": "markdown",
   "id": "packed-publication",
   "metadata": {},
   "source": [
    "### -> 2-2*-AVG (Run-4a)"
   ]
  },
  {
   "cell_type": "code",
   "execution_count": null,
   "id": "asian-maria",
   "metadata": {},
   "outputs": [],
   "source": [
    "!python research.py --action init --classes 2 --name 4a \n",
    "\n",
    "for client in range(0, 9):\n",
    "    !python research.py --action al --al_method avg --weights startingpoint.pt --client {client} --classes 2 --round 0 --name 4a \n",
    "    !python research.py --action train --epochs 20 --weights startingpoint.pt --client {client} --classes 2 --round 0 --name 4a \n",
    "!python research.py --action fedavg --classes 2 --round 0 --name 4a\n",
    "\n",
    "for curr_round in range(1,22):\n",
    "    for client in range(0, 9):\n",
    "        weights = f'runs/run-4a-{client}-{curr_round -1}/weights/last.pt'\n",
    "        !python research.py --action al --al_method avg --weights {weights} --client {client} --classes 2 --round {curr_round} --name 4a \n",
    "        !python research.py --action train --epochs 20 --weights {weights} --client {client} --classes 2 --round {curr_round} --name 4a \n",
    "!python research.py --action fedavg --classes 2 --round 21 --name 4a\n",
    "    \n",
    "for curr_round in range(22,201):\n",
    "    for client in range(0, 9):\n",
    "        !python research.py --action train --epochs 20 --reuse_weights --client {client} --classes 2 --round {curr_round} --name 4a \n",
    "    !python research.py --action fedavg --classes 2 --round {curr_round} --name 4a"
   ]
  },
  {
   "cell_type": "markdown",
   "id": "restricted-anatomy",
   "metadata": {},
   "source": [
    "### -> 2-2*-MAX (Run-4b)"
   ]
  },
  {
   "cell_type": "code",
   "execution_count": null,
   "id": "gorgeous-substitute",
   "metadata": {},
   "outputs": [],
   "source": [
    "!python research.py --action init --classes 2 --name 4b\n",
    "\n",
    "for client in range(0, 9):\n",
    "    !python research.py --action al --al_method max --weights startingpoint.pt --client {client} --classes 2 --round 0 --name 4b \n",
    "    !python research.py --action train --epochs 20 --weights startingpoint.pt --client {client} --classes 2 --round 0 --name 4b \n",
    "!python research.py --action fedavg --classes 2 --round 0 --name 4b\n",
    "\n",
    "for curr_round in range(1,22):\n",
    "    for client in range(0, 9):\n",
    "        weights = f'runs/run-4b-{client}-{curr_round -1}/weights/last.pt'\n",
    "        !python research.py --action al --al_method max --weights {weights} --client {client} --classes 2 --round {curr_round} --name 4b \n",
    "        !python research.py --action train --epochs 20 --weights {weights} --client {client} --classes 2 --round {curr_round} --name 4b \n",
    "!python research.py --action fedavg --classes 2 --round 21 --name 4b\n",
    "    \n",
    "for curr_round in range(22,201):\n",
    "    for client in range(0, 9):\n",
    "        !python research.py --action train --epochs 20 --reuse_weights --client {client} --classes 2 --round {curr_round} --name 4b \n",
    "    !python research.py --action fedavg --classes 2 --round {curr_round} --name 4b"
   ]
  },
  {
   "cell_type": "markdown",
   "id": "ab7aa0b0",
   "metadata": {},
   "source": [
    "### 2-2*-RND (Run-5)"
   ]
  },
  {
   "cell_type": "code",
   "execution_count": null,
   "id": "4fe85472",
   "metadata": {},
   "outputs": [],
   "source": [
    "!python research.py --action init --classes 2 --name 5 \n",
    "\n",
    "for client in range(0, 9):\n",
    "    !python research.py --action al --al_method rnd --weights startingpoint.pt --client {client} --classes 2 --round 0 --name 5 \n",
    "    !python research.py --action train --epochs 20 --weights startingpoint.pt --client {client} --classes 2 --round 0 --name 5 \n",
    "!python research.py --action fedavg --classes 2 --round 0 --name 5\n",
    "\n",
    "for curr_round in range(1,22):\n",
    "    for client in range(0, 9):\n",
    "        weights = f'runs/run-5-{client}-{curr_round -1}/weights/last.pt'\n",
    "        !python research.py --action al --al_method rnd --weights {weights} --client {client} --classes 2 --round {curr_round} --name 5 \n",
    "        !python research.py --action train --epochs 20 --weights {weights} --client {client} --classes 2 --round {curr_round} --name 5 \n",
    "!python research.py --action fedavg --classes 2 --round 21 --name 5\n",
    "    \n",
    "for curr_round in range(22,111):\n",
    "    for client in range(0, 9):\n",
    "        !python research.py --action train --epochs 20 --reuse_weights --client {client} --classes 2 --round {curr_round} --name 5 \n",
    "    !python research.py --action fedavg --classes 2 --round {curr_round} --name 5"
   ]
  },
  {
   "cell_type": "markdown",
   "id": "fff98f94",
   "metadata": {},
   "source": [
    "### 2-2-AVG (Run-8)"
   ]
  },
  {
   "cell_type": "code",
   "execution_count": null,
   "id": "fde59663",
   "metadata": {},
   "outputs": [],
   "source": [
    "!python research.py --action init --classes 2 --name 8 \n",
    "\n",
    "for client in range(0, 9):\n",
    "    !python research.py --action al --al_method rnd --weights startingpoint.pt --client {client} --classes 2 --round 0 --name 8 \n",
    "    !python research.py --action train --epochs 20 --weights startingpoint.pt --client {client} --classes 2 --round 0 --name 8 \n",
    "!python research.py --action fedavg --classes 2 --round 0 --name 8\n",
    "\n",
    "for curr_round in range(1,22):\n",
    "    for client in range(0, 9):\n",
    "        !python research.py --action al --al_method rnd --reuse_weights --client {client} --classes 2 --round {curr_round} --name 8 \n",
    "        !python research.py --action train --epochs 20 --reuse_weights --client {client} --classes 2 --round {curr_round} --name 8 \n",
    "    !python research.py --action fedavg --classes 2 --round {curr_round} --name 8\n",
    "    \n",
    "for curr_round in range(22,111):\n",
    "    for client in range(0, 9):\n",
    "        !python research.py --action train --epochs 20 --reuse_weights --client {client} --classes 2 --round {curr_round} --name 8 \n",
    "    !python research.py --action fedavg --classes 2 --round {curr_round} --name 8"
   ]
  },
  {
   "cell_type": "markdown",
   "id": "bbfbabd4",
   "metadata": {},
   "source": [
    "### 2-2-SUM (Run-10)"
   ]
  },
  {
   "cell_type": "code",
   "execution_count": null,
   "id": "fd870baa",
   "metadata": {},
   "outputs": [],
   "source": [
    "!python research.py --action init --classes 2 --name 10 \n",
    "\n",
    "for client in range(0, 9):\n",
    "    !python research.py --action al --al_method sum --weights startingpoint.pt --client {client} --classes 2 --round 0 --name 10 \n",
    "    !python research.py --action train --epochs 20 --weights startingpoint.pt --client {client} --classes 2 --round 0 --name 10 \n",
    "!python research.py --action fedavg --classes 2 --round 0 --name 10\n",
    "\n",
    "for curr_round in range(1,22):\n",
    "    for client in range(0, 9):\n",
    "        !python research.py --action al --al_method sum --reuse_weights --client {client} --classes 2 --round {curr_round} --name 10 \n",
    "        !python research.py --action train --epochs 20 --reuse_weights --client {client} --classes 2 --round {curr_round} --name 10 \n",
    "    !python research.py --action fedavg --classes 2 --round {curr_round} --name 10\n",
    "    \n",
    "for curr_round in range(22,111):\n",
    "    for client in range(0, 9):\n",
    "        !python research.py --action train --epochs 20 --reuse_weights --client {client} --classes 2 --round {curr_round} --name 10 \n",
    "    !python research.py --action fedavg --classes 2 --round {curr_round} --name 10"
   ]
  },
  {
   "cell_type": "markdown",
   "id": "aa442fbf",
   "metadata": {},
   "source": [
    "### 2-2-AVG (Run-11)"
   ]
  },
  {
   "cell_type": "code",
   "execution_count": null,
   "id": "4e264bd6",
   "metadata": {},
   "outputs": [],
   "source": [
    "!python research.py --action init --classes 2 --name 11 \n",
    "\n",
    "for client in range(0, 9):\n",
    "    !python research.py --action al --al_method avg --weights startingpoint.pt --client {client} --classes 2 --round 0 --name 11 \n",
    "    !python research.py --action train --epochs 20 --weights startingpoint.pt --client {client} --classes 2 --round 0 --name 11 \n",
    "!python research.py --action fedavg --classes 2 --round 0 --name 11\n",
    "\n",
    "for curr_round in range(1,22):\n",
    "    for client in range(0, 9):\n",
    "        !python research.py --action al --al_method avg --reuse_weights --client {client} --classes 2 --round {curr_round} --name 11 \n",
    "        !python research.py --action train --epochs 20 --reuse_weights --client {client} --classes 2 --round {curr_round} --name 11 \n",
    "    !python research.py --action fedavg --classes 2 --round {curr_round} --name 11\n",
    "    \n",
    "for curr_round in range(22,111):\n",
    "    for client in range(0, 9):\n",
    "        !python research.py --action train --epochs 20 --reuse_weights --client {client} --classes 2 --round {curr_round} --name 11 \n",
    "    !python research.py --action fedavg --classes 2 --round {curr_round} --name 11"
   ]
  },
  {
   "cell_type": "markdown",
   "id": "cf0d7d4e",
   "metadata": {},
   "source": [
    "### 2-2-MAX (Run-12)"
   ]
  },
  {
   "cell_type": "code",
   "execution_count": null,
   "id": "79d3c1f3",
   "metadata": {},
   "outputs": [],
   "source": [
    "!python research.py --action init --classes 2 --name 12 \n",
    "\n",
    "for client in range(0, 9):\n",
    "    !python research.py --action al --al_method max --weights startingpoint.pt --client {client} --classes 2 --round 0 --name 12 \n",
    "    !python research.py --action train --epochs 20 --weights startingpoint.pt --client {client} --classes 2 --round 0 --name 12 \n",
    "!python research.py --action fedavg --classes 2 --round 0 --name 12\n",
    "\n",
    "for curr_round in range(1,22):\n",
    "    for client in range(0, 9):\n",
    "        !python research.py --action al --al_method max --reuse_weights --client {client} --classes 2 --round {curr_round} --name 12 \n",
    "        !python research.py --action train --epochs 20 --reuse_weights --client {client} --classes 2 --round {curr_round} --name 12\n",
    "    !python research.py --action fedavg --classes 2 --round {curr_round} --name 12\n",
    "    \n",
    "for curr_round in range(22,111):\n",
    "    for client in range(0, 9):\n",
    "        !python research.py --action train --epochs 20 --reuse_weights --client {client} --classes 2 --round {curr_round} --name 12 \n",
    "    !python research.py --action fedavg --classes 2 --round {curr_round} --name 12"
   ]
  },
  {
   "cell_type": "code",
   "execution_count": null,
   "id": "diverse-moore",
   "metadata": {},
   "outputs": [],
   "source": [
    "for curr_round in range(111,201):\n",
    "    for client in range(0, 9):\n",
    "        !python research.py --action train --epochs 20 --reuse_weights --client {client} --classes 2 --round {curr_round} --name 12 \n",
    "    !python research.py --action fedavg --classes 2 --round {curr_round} --name 12"
   ]
  },
  {
   "cell_type": "code",
   "execution_count": null,
   "id": "level-halloween",
   "metadata": {},
   "outputs": [],
   "source": [
    "curr_round = 122\n",
    "for client in range(5, 9):\n",
    "    !python research.py --action train --epochs 20 --reuse_weights --client {client} --classes 2 --round {curr_round} --name 12 \n",
    "!python research.py --action fedavg --classes 2 --round {curr_round} --name 12\n",
    "for curr_round in range(123,201):\n",
    "    for client in range(0, 9):\n",
    "        !python research.py --action train --epochs 20 --reuse_weights --client {client} --classes 2 --round {curr_round} --name 12 \n",
    "    !python research.py --action fedavg --classes 2 --round {curr_round} --name 12"
   ]
  },
  {
   "cell_type": "code",
   "execution_count": null,
   "id": "arbitrary-programming",
   "metadata": {},
   "outputs": [],
   "source": [
    "for curr_round in range(201,300):\n",
    "    for client in range(0, 9):\n",
    "        !python research.py --action train --epochs 2 --reuse_weights --client {client} --classes 2 --round {curr_round} --name 12 \n",
    "    !python research.py --action fedavg --classes 2 --round {curr_round} --name 12"
   ]
  },
  {
   "cell_type": "markdown",
   "id": "33471895",
   "metadata": {},
   "source": [
    "### 8-2-MAX (Run-14)"
   ]
  },
  {
   "cell_type": "code",
   "execution_count": null,
   "id": "080fd5b4",
   "metadata": {},
   "outputs": [],
   "source": [
    "!python research.py --action init --classes 8 --name 14 \n",
    "\n",
    "for client in range(0, 9):\n",
    "    !python research.py --action al --al_method max --weights startingpoint8.pt --client {client} --classes 8 --round 0 --name 14 \n",
    "    !python research.py --action train --epochs 20 --weights startingpoint8.pt --client {client} --classes 8 --round 0 --name 14 \n",
    "!python research.py --action fedavg --classes 8 --round 0 --name 14\n",
    "\n",
    "for curr_round in range(1,22):\n",
    "    for client in range(0, 9):\n",
    "        !python research.py --action al --al_method max --reuse_weights --client {client} --classes 8 --round {curr_round} --name 14 \n",
    "        !python research.py --action train --epochs 20 --reuse_weights --client {client} --classes 8 --round {curr_round} --name 14 \n",
    "    !python research.py --action fedavg --classes 8 --round {curr_round} --name 14\n",
    "    \n",
    "for curr_round in range(22,111):\n",
    "    for client in range(0, 9):\n",
    "        !python research.py --action train --epochs 20 --reuse_weights --client {client} --classes 8 --round {curr_round} --name 14 \n",
    "    !python research.py --action fedavg --classes 8 --round {curr_round} --name 14"
   ]
  },
  {
   "cell_type": "markdown",
   "id": "71fa4a15",
   "metadata": {},
   "source": [
    "### 8-2-RND (Run-16)\n"
   ]
  },
  {
   "cell_type": "code",
   "execution_count": null,
   "id": "24bb1fd3",
   "metadata": {},
   "outputs": [],
   "source": [
    "!python research.py --action init --classes 8 --name 16 \n",
    "\n",
    "for client in range(0, 9):\n",
    "    !python research.py --action al --al_method rnd --weights startingpoint8.pt --client {client} --classes 8 --round 0 --name 16 \n",
    "    !python research.py --action train --epochs 20 --weights startingpoint8.pt --client {client} --classes 8 --round 0 --name 16 \n",
    "!python research.py --action fedavg --classes 8 --round 0 --name 16\n",
    "\n",
    "for curr_round in range(1,22):\n",
    "    for client in range(0, 9):\n",
    "        !python research.py --action al --al_method rnd --reuse_weights --client {client} --classes 8 --round {curr_round} --name 16 \n",
    "        !python research.py --action train --epochs 20 --reuse_weights --client {client} --classes 8 --round {curr_round} --name 16 \n",
    "    !python research.py --action fedavg --classes 8 --round {curr_round} --name 16\n",
    "    \n",
    "for curr_round in range(22,111):\n",
    "    for client in range(0, 9):\n",
    "        !python research.py --action train --epochs 20 --reuse_weights --client {client} --classes 8 --round {curr_round} --name 16 \n",
    "    !python research.py --action fedavg --classes 8 --round {curr_round} --name 16"
   ]
  },
  {
   "cell_type": "markdown",
   "id": "80e88502",
   "metadata": {},
   "source": [
    "## The chained runs\n",
    "### 2-Chained (Run-Chainx)"
   ]
  },
  {
   "cell_type": "code",
   "execution_count": null,
   "id": "sized-notion",
   "metadata": {},
   "outputs": [],
   "source": [
    "!python research.py --action aggchain --classes 2 --round 0 --name Chainx # save agg to pseudo_fl/chainagg.pt\n"
   ]
  },
  {
   "cell_type": "code",
   "execution_count": null,
   "id": "b0f55f6e",
   "metadata": {},
   "outputs": [],
   "source": [
    "!python research.py --action init --classes 2 --name Chainx \n",
    "\n",
    "for client in range(0, 9):\n",
    "    if client == 0:\n",
    "        weights = 'startingpoint.pt'\n",
    "    else:\n",
    "        weights = f'runs/run-Chainx-{client-1}-0'\n",
    "    !python research.py --action al --al_method sum --al_samples 220 --weights {weights} --client {client} --classes 2 --round 0 --name Chainx \n",
    "    !python research.py --action train --epochs 200 --weights {weights} --client {client} --classes 2 --round 0 --test --name Chainx \n",
    "!python research.py --action aggchain --classes 2 --round 0 --name Chainx -aggr_metric ap50 \n",
    "# saved agg to pseudo_fl/chainagg.pt\n",
    "\n",
    "for curr_round in range(1,21):\n",
    "    for client in range(0, 9):\n",
    "        if client == 0 and curr_round == 1:\n",
    "            weights = 'pseudo_fl/Chainxagg.pt'\n",
    "        elif client == 0:\n",
    "            weights = f'runs/run-Chainx-8-{curr_round -1}'\n",
    "        else:\n",
    "            weights = f'runs/run-Chainx-{client -1}-{curr_round}'\n",
    "        !python research.py --action train --epochs 20 --weights {weights} --freeze-backbone --client {client} --classes 2 --round {curr_round} --name Chainx "
   ]
  },
  {
   "cell_type": "markdown",
   "id": "8fb1205d",
   "metadata": {},
   "source": [
    "### 2-Chained-Fed-Avg (Run-CFed)"
   ]
  },
  {
   "cell_type": "code",
   "execution_count": null,
   "id": "719dbaaa",
   "metadata": {},
   "outputs": [],
   "source": [
    "!python research.py --action init --classes 2 --name CFed\n",
    "# First round from chainagg.pt, shared with Run-Chainx\n",
    "for client in range(0, 9):\n",
    "      !python research.py --action train --epochs 20 --weights pseudo_fl/Chainxagg.pt --freeze-backbone --client {client} --classes 2 --round 1 --name CFed \n",
    "!python research.py --action fedavg --classes 2 --round 1 --name CFed\n",
    "\n",
    "# Rounds after that in regular fedavg fashion with reuse_weights.\n",
    "for curr_round in range(2,21):\n",
    "    for client in range(0, 9):\n",
    "          !python research.py --action train --epochs 20 --reuse_weights --freeze-backbone --client {client} --classes 2 --round {curr_round} --name CFed \n",
    "    !python research.py --action fedavg --classes 2 --round {curr_round} --name CFed"
   ]
  },
  {
   "cell_type": "markdown",
   "id": "d3ddb480",
   "metadata": {},
   "source": [
    "### 8-Chained (Run-15x)"
   ]
  },
  {
   "cell_type": "code",
   "execution_count": null,
   "id": "aaffe219",
   "metadata": {},
   "outputs": [],
   "source": [
    "!python research.py --action init --classes 8 --name 15x \n",
    "\n",
    "for client in range(0, 9):\n",
    "    if client == 0:\n",
    "        weights = 'startingpoint8.pt'\n",
    "    else:\n",
    "        weights = f'runs/run-15x-{client-1}-0'\n",
    "    !python research.py --action al --al_method sum --al_samples 220 --weights {weights} --client {client} --classes 8 --round 0 --name 15x \n",
    "    !python research.py --action train --epochs 200 --weights {weights} --client {client} --classes 8 --round 0 --test --name 15x \n",
    "!python research.py --action aggchain --classes 8 --round 0 --name 15x # save agg to pseudo_fl/chainagg.pt\n",
    "\n",
    "for curr_round in range(1,21):\n",
    "    for client in range(0, 9):\n",
    "        if client == 0 and curr_round == 1:\n",
    "            weights = 'pseudo_fl/15xagg.pt'\n",
    "        elif client == 0:\n",
    "            weights = f'runs/run-15x-8-{curr_round -1}'\n",
    "        else:\n",
    "            weights = f'runs/run-15x-{client -1}-{curr_round}'\n",
    "        !python research.py --action train --epochs 20 --weights {weights} --freeze-backbone --client {client} --classes 8 --round {curr_round} --name 15x "
   ]
  },
  {
   "cell_type": "markdown",
   "id": "b08cf3bc",
   "metadata": {},
   "source": [
    "## The centralized runs\n",
    "To create the run files for the centralized baseline, we take everything in the labelled sets of all devices for one run, and store it in one file on one device."
   ]
  },
  {
   "cell_type": "code",
   "execution_count": null,
   "id": "3968b176",
   "metadata": {},
   "outputs": [],
   "source": [
    "def create_centralized_run_files(name, nc):\n",
    "    total_images = []\n",
    "    for file in glob.glob(f\"KITTI/yolo{nc}/clients/run-{name}/l-*.txt\"): \n",
    "        with open(file, \"r\") as f:\n",
    "            for line in f.readlines():\n",
    "                total_images.append(line.replace('\\n',''))\n",
    "    os.makedirs(f\"KITTI/yolo{nc}/clients/run-{name}-CENTRALIZED/)\n",
    "    with open(f\"KITTI/yolo{nc}/clients/run-{name}-CENTRALIZED/l-0.txt\", \"w\") as f:\n",
    "        for line in total_images:\n",
    "            f.write(line+'\\n')"
   ]
  },
  {
   "cell_type": "markdown",
   "id": "violent-rough",
   "metadata": {},
   "source": [
    "With those files, a model is trained from scratch for 200 epochs. The number of classes has to be known per run, so this is manually entered in a mapping."
   ]
  },
  {
   "cell_type": "code",
   "execution_count": null,
   "id": "6b4c17c2",
   "metadata": {},
   "outputs": [],
   "source": [
    "run_classes_mapping = {'4': 2, '5': 2, '8': 2, '10': 2, '11': 2, '12': 2, '14': 8, '16': 8, 'Chainx': 2, 'CFed': 2, '15x': 8}\n",
    "for name, nc in d.items():\n",
    "    create_centralized_run_files(name, nc)\n",
    "    !python research.py --action train --epochs 200 --pretrain --client 0 --classes {nc} --round 0 --test --name {name+\"-CENTRALIZED\"} "
   ]
  }
 ],
 "metadata": {
  "kernelspec": {
   "display_name": "Python 3",
   "language": "python",
   "name": "python3"
  },
  "language_info": {
   "codemirror_mode": {
    "name": "ipython",
    "version": 3
   },
   "file_extension": ".py",
   "mimetype": "text/x-python",
   "name": "python",
   "nbconvert_exporter": "python",
   "pygments_lexer": "ipython3",
   "version": "3.9.2"
  }
 },
 "nbformat": 4,
 "nbformat_minor": 5
}
