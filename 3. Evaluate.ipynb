{
 "cells": [
  {
   "cell_type": "markdown",
   "id": "30d8c1c5",
   "metadata": {},
   "source": [
    "# Evaluate\n",
    "The evaluation is done after the training, not during the training. This is because the evaluation can then be executed on a seperate computer with less resources, while the powerful computers continue training. Two dataloaders are created, one for the 2-class dataset and one for the 8-class dataset. The validation set is used to calculate the common metrics, which are then stored in a .pickle file, which are used in 4 to analyse and graph the results.  "
   ]
  },
  {
   "cell_type": "code",
   "execution_count": null,
   "id": "comfortable-laser",
   "metadata": {},
   "outputs": [],
   "source": [
    "import evaluate\n",
    "import glob\n",
    "import gc\n",
    "import torch"
   ]
  },
  {
   "cell_type": "markdown",
   "id": "fff7c847",
   "metadata": {},
   "source": [
    "## Evaluating 2-class sets"
   ]
  },
  {
   "cell_type": "code",
   "execution_count": null,
   "id": "cedf9c77",
   "metadata": {},
   "outputs": [],
   "source": [
    "dataloader = evaluate.get_dataloader(2)"
   ]
  },
  {
   "cell_type": "code",
   "execution_count": null,
   "id": "ec08d65f",
   "metadata": {},
   "outputs": [],
   "source": [
    "for file in glob.glob('runs/*/weights/best.pt'):\n",
    "    evaluate.evaluate(file, None, None, dataloader, 2)\n",
    "    gc.collect()\n",
    "    torch.cuda.empty_cache()"
   ]
  },
  {
   "cell_type": "markdown",
   "id": "407df7d8",
   "metadata": {},
   "source": [
    "## Evaluating 8-class sets"
   ]
  },
  {
   "cell_type": "code",
   "execution_count": null,
   "id": "3cb6024d",
   "metadata": {},
   "outputs": [],
   "source": [
    "dataloader = create_dataloader(f'KITTI/yolo8/val.txt', imgsz, batch_size, gs, opt, pad=0.5, rect=True, prefix=colorstr('val8: '))[0]"
   ]
  },
  {
   "cell_type": "code",
   "execution_count": null,
   "id": "2bf710b2",
   "metadata": {},
   "outputs": [],
   "source": [
    "nc = 8\n",
    "for file in glob.glob(\"D:\\\\Research Project\\\\8_Chained\\\\Runs\\\\*\\\\weights\\\\best.pt\", recursive=True):\n",
    "    evaluate.evaluate(file, None, None, dataloader, 8)\n",
    "    gc.collect()\n",
    "    torch.cuda.empty_cache()"
   ]
  }
 ],
 "metadata": {
  "kernelspec": {
   "display_name": "Python 3",
   "language": "python",
   "name": "python3"
  },
  "language_info": {
   "codemirror_mode": {
    "name": "ipython",
    "version": 3
   },
   "file_extension": ".py",
   "mimetype": "text/x-python",
   "name": "python",
   "nbconvert_exporter": "python",
   "pygments_lexer": "ipython3",
   "version": "3.9.2"
  }
 },
 "nbformat": 4,
 "nbformat_minor": 5
}
